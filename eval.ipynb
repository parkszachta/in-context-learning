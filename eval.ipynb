{
 "cells": [
  {
   "cell_type": "code",
   "execution_count": 3,
   "id": "ed6cfeb1",
   "metadata": {
    "editable": true,
    "slideshow": {
     "slide_type": ""
    },
    "tags": []
   },
   "outputs": [
    {
     "name": "stdout",
     "output_type": "stream",
     "text": [
      "The autoreload extension is already loaded. To reload it, use:\n",
      "  %reload_ext autoreload\n"
     ]
    }
   ],
   "source": [
    "from collections import OrderedDict\n",
    "import re\n",
    "import os\n",
    "\n",
    "import matplotlib.pyplot as plt\n",
    "import pandas as pd\n",
    "import seaborn as sns\n",
    "import torch\n",
    "from tqdm.notebook import tqdm\n",
    "\n",
    "from eval import get_run_metrics, read_run_dir, get_model_from_run\n",
    "from plot_utils import basic_plot, collect_results, relevant_model_names\n",
    "\n",
    "from shutil import copy2\n",
    "import glob\n",
    "\n",
    "%matplotlib inline\n",
    "%load_ext autoreload\n",
    "%autoreload 2\n",
    "\n",
    "sns.set_theme('notebook', 'darkgrid')\n",
    "palette = sns.color_palette('colorblind')\n",
    "\n",
    "run_dir = \"trained_models/models_tiny\""
   ]
  },
  {
   "cell_type": "markdown",
   "id": "0c6d8382",
   "metadata": {},
   "source": [
    "# Eval model and baseline models"
   ]
  },
  {
   "cell_type": "code",
   "execution_count": 4,
   "id": "0e8d018b",
   "metadata": {
    "scrolled": true
   },
   "outputs": [
    {
     "data": {
      "text/html": [
       "<div>\n",
       "<style scoped>\n",
       "    .dataframe tbody tr th:only-of-type {\n",
       "        vertical-align: middle;\n",
       "    }\n",
       "\n",
       "    .dataframe tbody tr th {\n",
       "        vertical-align: top;\n",
       "    }\n",
       "\n",
       "    .dataframe thead th {\n",
       "        text-align: right;\n",
       "    }\n",
       "</style>\n",
       "<table border=\"1\" class=\"dataframe\">\n",
       "  <thead>\n",
       "    <tr style=\"text-align: right;\">\n",
       "      <th></th>\n",
       "      <th>run_id</th>\n",
       "      <th>task</th>\n",
       "      <th>model</th>\n",
       "      <th>kwargs</th>\n",
       "      <th>num_tasks</th>\n",
       "      <th>num_examples</th>\n",
       "      <th>n_dims</th>\n",
       "      <th>n_layer</th>\n",
       "      <th>n_head</th>\n",
       "      <th>run_name</th>\n",
       "    </tr>\n",
       "  </thead>\n",
       "  <tbody>\n",
       "    <tr>\n",
       "      <th>2</th>\n",
       "      <td>d40e8079-a1aa-411a-8589-67cede43ab28</td>\n",
       "      <td>piecewise_linear_regression</td>\n",
       "      <td>Transformer-xs</td>\n",
       "      <td></td>\n",
       "      <td>-1</td>\n",
       "      <td>-1</td>\n",
       "      <td>1</td>\n",
       "      <td>3</td>\n",
       "      <td>2</td>\n",
       "      <td>piecewise_linear_regression</td>\n",
       "    </tr>\n",
       "    <tr>\n",
       "      <th>0</th>\n",
       "      <td>82011e05-453a-4859-b7bc-5181a9f997b5</td>\n",
       "      <td>piecewise_linear_vector_regression</td>\n",
       "      <td>Transformer-xs</td>\n",
       "      <td></td>\n",
       "      <td>-1</td>\n",
       "      <td>-1</td>\n",
       "      <td>5</td>\n",
       "      <td>3</td>\n",
       "      <td>2</td>\n",
       "      <td>piecewise_linear_vector_regression</td>\n",
       "    </tr>\n",
       "    <tr>\n",
       "      <th>1</th>\n",
       "      <td>6c2975af-7bb1-4d0d-b314-833faa8875a5</td>\n",
       "      <td>piecewise_linear_vector_regression_multi_pivot</td>\n",
       "      <td>Transformer-xs</td>\n",
       "      <td></td>\n",
       "      <td>-1</td>\n",
       "      <td>-1</td>\n",
       "      <td>5</td>\n",
       "      <td>3</td>\n",
       "      <td>2</td>\n",
       "      <td>piecewise_linear_vector_regression_multi_pivot</td>\n",
       "    </tr>\n",
       "  </tbody>\n",
       "</table>\n",
       "</div>"
      ],
      "text/plain": [
       "                                 run_id  \\\n",
       "2  d40e8079-a1aa-411a-8589-67cede43ab28   \n",
       "0  82011e05-453a-4859-b7bc-5181a9f997b5   \n",
       "1  6c2975af-7bb1-4d0d-b314-833faa8875a5   \n",
       "\n",
       "                                             task           model kwargs  \\\n",
       "2                     piecewise_linear_regression  Transformer-xs          \n",
       "0              piecewise_linear_vector_regression  Transformer-xs          \n",
       "1  piecewise_linear_vector_regression_multi_pivot  Transformer-xs          \n",
       "\n",
       "   num_tasks  num_examples  n_dims  n_layer  n_head  \\\n",
       "2         -1            -1       1        3       2   \n",
       "0         -1            -1       5        3       2   \n",
       "1         -1            -1       5        3       2   \n",
       "\n",
       "                                         run_name  \n",
       "2                     piecewise_linear_regression  \n",
       "0              piecewise_linear_vector_regression  \n",
       "1  piecewise_linear_vector_regression_multi_pivot  "
      ]
     },
     "execution_count": 4,
     "metadata": {},
     "output_type": "execute_result"
    }
   ],
   "source": [
    "%rm -rf trained_models/models_standard/.DS_Store\n",
    "%rm -rf trained_models/models_standard/piecewise_linear_vector_regression/.DS_Store\n",
    "%rm -rf trained_models/models_standard/piecewise_linear_regression/.DS_Store\n",
    "%rm -rf trained_models/models_tiny/.DS_Store\n",
    "%rm -rf trained_models/models_tiny/piecewise_linear_vector_regression/.DS_Store\n",
    "%rm -rf trained_models/models_tiny/piecewise_linear_vector_regression_multi_pivot/.DS_Store\n",
    "%rm -rf trained_models/models_tiny/piecewise_linear_regression/.DS_Store\n",
    "df = read_run_dir(run_dir)\n",
    "df  # list all the runs in our run_dir"
   ]
  },
  {
   "cell_type": "code",
   "execution_count": 5,
   "id": "41c2d609",
   "metadata": {},
   "outputs": [
    {
     "name": "stdout",
     "output_type": "stream",
     "text": [
      "Using device → cpu\n"
     ]
    }
   ],
   "source": [
    "# ------------------------------------------------------------------\n",
    "# Pick one global device; on your Mac this will be \"cpu\".\n",
    "# ------------------------------------------------------------------\n",
    "if torch.cuda.is_available():\n",
    "    DEVICE = \"cuda\"\n",
    "else:\n",
    "    DEVICE = \"cpu\"\n",
    "print(\"Using device →\", DEVICE)"
   ]
  },
  {
   "cell_type": "code",
   "execution_count": 7,
   "id": "a9980951",
   "metadata": {},
   "outputs": [
    {
     "name": "stderr",
     "output_type": "stream",
     "text": [
      "  0%|          | 0/1 [00:00<?, ?it/s]"
     ]
    },
    {
     "name": "stdout",
     "output_type": "stream",
     "text": [
      "Intel MKL WARNING: Support of Intel(R) Streaming SIMD Extensions 4.2 (Intel(R) SSE4.2) enabled only processors has been deprecated. Intel oneAPI Math Kernel Library 2025.0 will require Intel(R) Advanced Vector Extensions (Intel(R) AVX) instructions.\n"
     ]
    },
    {
     "name": "stderr",
     "output_type": "stream",
     "text": [
      "100%|██████████| 1/1 [00:14<00:00, 14.20s/it]\n"
     ]
    }
   ],
   "source": [
    "# task = \"piecewise_linear_regression\"\n",
    "# task = \"piecewise_linear_vector_regression\"\n",
    "task = \"piecewise_linear_vector_regression_multi_pivot\"\n",
    "# task = \"sparse_linear_regression\"\n",
    "# task = \"decision_tree\"\n",
    "# task = \"relu_2nn_regression\"\n",
    "\n",
    "run_id = \"6c2975af-7bb1-4d0d-b314-833faa8875a5\"  # if you train more models, replace with the run_id from the table above\n",
    "\n",
    "run_path = os.path.join(run_dir, task, run_id)\n",
    "recompute_metrics = True\n",
    "skip_baselines = True\n",
    "\n",
    "if recompute_metrics:\n",
    "    get_run_metrics(run_path, skip_baselines = skip_baselines, DEVICE=DEVICE)  # these are normally precomputed at the end of training"
   ]
  },
  {
   "cell_type": "markdown",
   "id": "f6d09964",
   "metadata": {},
   "source": [
    "# Plot pre-computed metrics"
   ]
  },
  {
   "cell_type": "code",
   "execution_count": 8,
   "id": "a8bc2584",
   "metadata": {},
   "outputs": [
    {
     "name": "stdout",
     "output_type": "stream",
     "text": [
      "piecewise_linear_vector_regression_multi_pivot 6c2975af-7bb1-4d0d-b314-833faa8875a5\n"
     ]
    },
    {
     "name": "stderr",
     "output_type": "stream",
     "text": [
      "100%|██████████| 1/1 [00:00<00:00, 27776.85it/s]\n"
     ]
    },
    {
     "data": {
      "text/plain": [
       "dict_keys(['Transformer-xs'])"
      ]
     },
     "execution_count": 8,
     "metadata": {},
     "output_type": "execute_result"
    }
   ],
   "source": [
    "def valid_row(r):\n",
    "    return r.task == task and r.run_id == run_id\n",
    "\n",
    "metrics = collect_results(run_dir, df, valid_row=valid_row)\n",
    "metrics['standard'].keys()"
   ]
  },
  {
   "cell_type": "markdown",
   "id": "56165874",
   "metadata": {},
   "source": [
    "# The following code block is only for standard models, not tiny models."
   ]
  },
  {
   "cell_type": "code",
   "execution_count": 9,
   "id": "cd8e02c5",
   "metadata": {},
   "outputs": [
    {
     "name": "stdout",
     "output_type": "stream",
     "text": [
      "piecewise_linear_vector_regression_multi_pivot 6c2975af-7bb1-4d0d-b314-833faa8875a5\n"
     ]
    },
    {
     "name": "stderr",
     "output_type": "stream",
     "text": [
      "100%|██████████| 1/1 [00:00<00:00, 18157.16it/s]\n"
     ]
    },
    {
     "ename": "KeyError",
     "evalue": "'Transformer'",
     "output_type": "error",
     "traceback": [
      "\u001b[0;31m---------------------------------------------------------------------------\u001b[0m",
      "\u001b[0;31mKeyError\u001b[0m                                  Traceback (most recent call last)",
      "Cell \u001b[0;32mIn[9], line 11\u001b[0m\n\u001b[1;32m      9\u001b[0m \u001b[38;5;28;01mif\u001b[39;00m skip_baselines:\n\u001b[1;32m     10\u001b[0m     models \u001b[38;5;241m=\u001b[39m [\u001b[38;5;124m\"\u001b[39m\u001b[38;5;124mTransformer\u001b[39m\u001b[38;5;124m\"\u001b[39m]\n\u001b[0;32m---> 11\u001b[0m \u001b[43mbasic_plot\u001b[49m\u001b[43m(\u001b[49m\u001b[43mmetrics\u001b[49m\u001b[43m[\u001b[49m\u001b[38;5;124;43m\"\u001b[39;49m\u001b[38;5;124;43mstandard\u001b[39;49m\u001b[38;5;124;43m\"\u001b[39;49m\u001b[43m]\u001b[49m\u001b[43m,\u001b[49m\u001b[43m \u001b[49m\u001b[43mmodels\u001b[49m\u001b[38;5;241;43m=\u001b[39;49m\u001b[43mmodels\u001b[49m\u001b[43m)\u001b[49m\n\u001b[1;32m     12\u001b[0m plt\u001b[38;5;241m.\u001b[39mshow()\n",
      "File \u001b[0;32m~/Desktop/in-context-learning/plot_utils.py:69\u001b[0m, in \u001b[0;36mbasic_plot\u001b[0;34m(metrics, models, trivial)\u001b[0m\n\u001b[1;32m     66\u001b[0m fig, ax \u001b[38;5;241m=\u001b[39m plt\u001b[38;5;241m.\u001b[39msubplots(\u001b[38;5;241m1\u001b[39m, \u001b[38;5;241m1\u001b[39m)\n\u001b[1;32m     68\u001b[0m \u001b[38;5;28;01mif\u001b[39;00m models \u001b[38;5;129;01mis\u001b[39;00m \u001b[38;5;129;01mnot\u001b[39;00m \u001b[38;5;28;01mNone\u001b[39;00m:\n\u001b[0;32m---> 69\u001b[0m     metrics \u001b[38;5;241m=\u001b[39m {k: metrics[k] \u001b[38;5;28;01mfor\u001b[39;00m k \u001b[38;5;129;01min\u001b[39;00m models}\n\u001b[1;32m     71\u001b[0m color \u001b[38;5;241m=\u001b[39m \u001b[38;5;241m0\u001b[39m\n\u001b[1;32m     72\u001b[0m ax\u001b[38;5;241m.\u001b[39maxhline(trivial, ls\u001b[38;5;241m=\u001b[39m\u001b[38;5;124m\"\u001b[39m\u001b[38;5;124m--\u001b[39m\u001b[38;5;124m\"\u001b[39m, color\u001b[38;5;241m=\u001b[39m\u001b[38;5;124m\"\u001b[39m\u001b[38;5;124mgray\u001b[39m\u001b[38;5;124m\"\u001b[39m)\n",
      "File \u001b[0;32m~/Desktop/in-context-learning/plot_utils.py:69\u001b[0m, in \u001b[0;36m<dictcomp>\u001b[0;34m(.0)\u001b[0m\n\u001b[1;32m     66\u001b[0m fig, ax \u001b[38;5;241m=\u001b[39m plt\u001b[38;5;241m.\u001b[39msubplots(\u001b[38;5;241m1\u001b[39m, \u001b[38;5;241m1\u001b[39m)\n\u001b[1;32m     68\u001b[0m \u001b[38;5;28;01mif\u001b[39;00m models \u001b[38;5;129;01mis\u001b[39;00m \u001b[38;5;129;01mnot\u001b[39;00m \u001b[38;5;28;01mNone\u001b[39;00m:\n\u001b[0;32m---> 69\u001b[0m     metrics \u001b[38;5;241m=\u001b[39m {k: \u001b[43mmetrics\u001b[49m\u001b[43m[\u001b[49m\u001b[43mk\u001b[49m\u001b[43m]\u001b[49m \u001b[38;5;28;01mfor\u001b[39;00m k \u001b[38;5;129;01min\u001b[39;00m models}\n\u001b[1;32m     71\u001b[0m color \u001b[38;5;241m=\u001b[39m \u001b[38;5;241m0\u001b[39m\n\u001b[1;32m     72\u001b[0m ax\u001b[38;5;241m.\u001b[39maxhline(trivial, ls\u001b[38;5;241m=\u001b[39m\u001b[38;5;124m\"\u001b[39m\u001b[38;5;124m--\u001b[39m\u001b[38;5;124m\"\u001b[39m, color\u001b[38;5;241m=\u001b[39m\u001b[38;5;124m\"\u001b[39m\u001b[38;5;124mgray\u001b[39m\u001b[38;5;124m\"\u001b[39m)\n",
      "\u001b[0;31mKeyError\u001b[0m: 'Transformer'"
     ]
    },
    {
     "data": {
      "image/png": "[encoded data removed]",
      "text/plain": [
       "<Figure size 640x480 with 1 Axes>"
      ]
     },
     "metadata": {},
     "output_type": "display_data"
    }
   ],
   "source": [
    "def valid_row(r):\n",
    "    return r.task == task and r.run_id == run_id\n",
    "\n",
    "metrics = collect_results(run_dir, df, valid_row=valid_row)\n",
    "_, conf = get_model_from_run(run_path, only_conf=True)\n",
    "n_dims = conf.model.n_dims\n",
    "\n",
    "models = relevant_model_names[task]\n",
    "if skip_baselines:\n",
    "    models = [\"Transformer\"]\n",
    "basic_plot(metrics[\"standard\"], models=models)\n",
    "plt.show()"
   ]
  },
  {
   "cell_type": "markdown",
   "id": "eb07138e",
   "metadata": {},
   "source": [
    "# Validation Loss"
   ]
  },
  {
   "cell_type": "code",
   "execution_count": null,
   "id": "141980b1",
   "metadata": {},
   "outputs": [
    {
     "name": "stdout",
     "output_type": "stream",
     "text": [
      "n_pivots:  None\n"
     ]
    },
    {
     "ename": "TypeError",
     "evalue": "unsupported operand type(s) for +: 'NoneType' and 'int'",
     "output_type": "error",
     "traceback": [
      "\u001b[0;31m---------------------------------------------------------------------------\u001b[0m",
      "\u001b[0;31mTypeError\u001b[0m                                 Traceback (most recent call last)",
      "Cell \u001b[0;32mIn[15], line 54\u001b[0m\n\u001b[1;32m     52\u001b[0m     n_dims \u001b[38;5;241m=\u001b[39m cfg[\u001b[38;5;124m\"\u001b[39m\u001b[38;5;124mmodel\u001b[39m\u001b[38;5;124m\"\u001b[39m][\u001b[38;5;124m\"\u001b[39m\u001b[38;5;124mn_dims\u001b[39m\u001b[38;5;124m\"\u001b[39m]\n\u001b[1;32m     53\u001b[0m     n_pivots \u001b[38;5;241m=\u001b[39m cfg[\u001b[38;5;124m\"\u001b[39m\u001b[38;5;124mtraining\u001b[39m\u001b[38;5;124m\"\u001b[39m][\u001b[38;5;124m\"\u001b[39m\u001b[38;5;124mn_pivots\u001b[39m\u001b[38;5;124m\"\u001b[39m]\n\u001b[0;32m---> 54\u001b[0m     ys_val \u001b[38;5;241m=\u001b[39m \u001b[43mtask_sampler\u001b[49m\u001b[43m(\u001b[49m\u001b[43m)\u001b[49m\u001b[38;5;241m.\u001b[39mevaluate(xs_val, n_dims\u001b[38;5;241m=\u001b[39mn_dims, n_pivots\u001b[38;5;241m=\u001b[39mn_pivots)\n\u001b[1;32m     55\u001b[0m xs_val, ys_val \u001b[38;5;241m=\u001b[39m xs_val\u001b[38;5;241m.\u001b[39mto(DEVICE), ys_val\u001b[38;5;241m.\u001b[39mto(DEVICE)\n\u001b[1;32m     57\u001b[0m \u001b[38;5;66;03m# ── 5) Loop through each checkpoint, load it, compute MSE ─────────────\u001b[39;00m\n",
      "File \u001b[0;32m~/Desktop/in-context-learning/data_generation.py:108\u001b[0m, in \u001b[0;36mget_task_sampler.<locals>.<lambda>\u001b[0;34m(**args)\u001b[0m\n\u001b[1;32m    106\u001b[0m         \u001b[38;5;28;01mreturn\u001b[39;00m \u001b[38;5;28;01mlambda\u001b[39;00m \u001b[38;5;241m*\u001b[39m\u001b[38;5;241m*\u001b[39margs: task_cls(n_dims, batch_size, n_pivots, pool_dict, \u001b[38;5;241m*\u001b[39m\u001b[38;5;241m*\u001b[39margs, \u001b[38;5;241m*\u001b[39m\u001b[38;5;241m*\u001b[39mkwargs)\n\u001b[1;32m    107\u001b[0m     \u001b[38;5;28;01melse\u001b[39;00m:\n\u001b[0;32m--> 108\u001b[0m         \u001b[38;5;28;01mreturn\u001b[39;00m \u001b[38;5;28;01mlambda\u001b[39;00m \u001b[38;5;241m*\u001b[39m\u001b[38;5;241m*\u001b[39margs: \u001b[43mtask_cls\u001b[49m\u001b[43m(\u001b[49m\u001b[43mn_dims\u001b[49m\u001b[43m,\u001b[49m\u001b[43m \u001b[49m\u001b[43mbatch_size\u001b[49m\u001b[43m,\u001b[49m\u001b[43m \u001b[49m\u001b[43mpool_dict\u001b[49m\u001b[43m,\u001b[49m\u001b[43m \u001b[49m\u001b[38;5;241;43m*\u001b[39;49m\u001b[38;5;241;43m*\u001b[39;49m\u001b[43margs\u001b[49m\u001b[43m,\u001b[49m\u001b[43m \u001b[49m\u001b[38;5;241;43m*\u001b[39;49m\u001b[38;5;241;43m*\u001b[39;49m\u001b[43mkwargs\u001b[49m\u001b[43m)\u001b[49m\n\u001b[1;32m    109\u001b[0m \u001b[38;5;28;01melse\u001b[39;00m:\n\u001b[1;32m    110\u001b[0m     \u001b[38;5;28mprint\u001b[39m(\u001b[38;5;124m\"\u001b[39m\u001b[38;5;124mUnknown task\u001b[39m\u001b[38;5;124m\"\u001b[39m)\n",
      "File \u001b[0;32m~/Desktop/in-context-learning/data_generation.py:315\u001b[0m, in \u001b[0;36mPiecewiseLinearVectorRegressionMultiPivot.__init__\u001b[0;34m(self, n_dims, batch_size, n_pivots, pool_dict, seeds, scale)\u001b[0m\n\u001b[1;32m    308\u001b[0m \u001b[38;5;66;03m# Total parameters per task: \u001b[39;00m\n\u001b[1;32m    309\u001b[0m \u001b[38;5;66;03m# - (n_pivots + 1) vectors a_i of length n_dims for each piece\u001b[39;00m\n\u001b[1;32m    310\u001b[0m \u001b[38;5;66;03m# - 1 vector w of length n_dims\u001b[39;00m\n\u001b[1;32m    311\u001b[0m \u001b[38;5;66;03m# - (n_pivots + 1) scalars b_i for each piece\u001b[39;00m\n\u001b[1;32m    312\u001b[0m \u001b[38;5;66;03m# - n_pivots scalars c_i for pivot points\u001b[39;00m\n\u001b[1;32m    313\u001b[0m \u001b[38;5;28mprint\u001b[39m(\u001b[38;5;124m\"\u001b[39m\u001b[38;5;124mn_pivots: \u001b[39m\u001b[38;5;124m\"\u001b[39m, n_pivots)\n\u001b[0;32m--> 315\u001b[0m total \u001b[38;5;241m=\u001b[39m (\u001b[43mn_pivots\u001b[49m\u001b[43m \u001b[49m\u001b[38;5;241;43m+\u001b[39;49m\u001b[43m \u001b[49m\u001b[38;5;241;43m1\u001b[39;49m) \u001b[38;5;241m*\u001b[39m n_dims \u001b[38;5;241m+\u001b[39m n_dims \u001b[38;5;241m+\u001b[39m (n_pivots \u001b[38;5;241m+\u001b[39m \u001b[38;5;241m1\u001b[39m) \u001b[38;5;241m+\u001b[39m n_pivots\n\u001b[1;32m    317\u001b[0m \u001b[38;5;28;01mif\u001b[39;00m pool_dict \u001b[38;5;129;01mis\u001b[39;00m \u001b[38;5;28;01mNone\u001b[39;00m \u001b[38;5;129;01mand\u001b[39;00m seeds \u001b[38;5;129;01mis\u001b[39;00m \u001b[38;5;28;01mNone\u001b[39;00m:\n\u001b[1;32m    318\u001b[0m     \u001b[38;5;28mself\u001b[39m\u001b[38;5;241m.\u001b[39mparams \u001b[38;5;241m=\u001b[39m torch\u001b[38;5;241m.\u001b[39mrandn(batch_size, total)\n",
      "\u001b[0;31mTypeError\u001b[0m: unsupported operand type(s) for +: 'NoneType' and 'int'"
     ]
    }
   ],
   "source": [
    "from shutil import copy2\n",
    "import glob, os\n",
    "import pandas as pd\n",
    "import seaborn as sns\n",
    "import matplotlib.pyplot as plt\n",
    "import matplotlib.ticker as ticker\n",
    "from data_generation import get_data_sampler, get_task_sampler\n",
    "import yaml\n",
    "\n",
    "# ── 0) Paths & settings ──────────────────────────────────────────────\n",
    "run_path     = os.path.join(run_dir, task, run_id)\n",
    "orig_state   = os.path.join(run_path, \"state.pt\")\n",
    "backup_state = orig_state + \".bak\"\n",
    "DEVICE       = DEVICE\n",
    "\n",
    "# ── 1) Backup your original state.pt ─────────────────────────────────\n",
    "if os.path.exists(orig_state):\n",
    "    copy2(orig_state, backup_state)\n",
    "\n",
    "# ── 2) Glob & sort your saved checkpoints ────────────────────────────\n",
    "ckpt_paths = sorted(\n",
    "    glob.glob(os.path.join(run_path, \"model_*.pt\")),\n",
    "    key=lambda p: int(os.path.basename(p).split(\"_\")[1].split(\".pt\")[0])\n",
    ")\n",
    "\n",
    "# ── 3) Load config.yaml so we know how to sample val set ──────────────\n",
    "with open(os.path.join(run_path, \"config.yaml\")) as f:\n",
    "    cfg = yaml.safe_load(f)\n",
    "\n",
    "n_dims     = cfg[\"model\"][\"n_dims\"]\n",
    "bsize      = cfg[\"training\"][\"batch_size\"]\n",
    "task_name  = cfg[\"training\"][\"task\"]\n",
    "task_kwargs = cfg[\"training\"].get(\"task_kwargs\", {})\n",
    "\n",
    "# ── 4) Build samplers and one fixed validation batch ────────────────\n",
    "torch.manual_seed(282)\n",
    "data_sampler = get_data_sampler(cfg[\"training\"][\"data\"], n_dims=n_dims)\n",
    "if task == \"piecewise_linear_vector_regression_multi_pivot\":\n",
    "    task_sampler = get_task_sampler(\n",
    "        task_name,\n",
    "        n_dims,\n",
    "        bsize,\n",
    "        n_pivots=cfg[\"training\"][\"n_pivots\"]\n",
    "        num_tasks=cfg[\"training\"].get(\"num_tasks\"),\n",
    "        **task_kwargs\n",
    "    )\n",
    "else:\n",
    "    task_sampler = get_task_sampler(\n",
    "        task_name,\n",
    "        n_dims,\n",
    "        bsize,\n",
    "        num_tasks=cfg[\"training\"].get(\"num_tasks\"),\n",
    "        **task_kwargs\n",
    "    )\n",
    "\n",
    "xs_val = data_sampler.sample_xs(\n",
    "    cfg[\"training\"][\"curriculum\"][\"points\"][\"end\"],\n",
    "    bsize,\n",
    "    cfg[\"training\"][\"curriculum\"][\"dims\"][\"end\"],\n",
    ")\n",
    "ys_val = task_sampler().evaluate(xs_val)\n",
    "xs_val, ys_val = xs_val.to(DEVICE), ys_val.to(DEVICE)\n",
    "\n",
    "# ── 5) Loop through each checkpoint, load it, compute MSE ─────────────\n",
    "records = []\n",
    "for ckpt in ckpt_paths:\n",
    "    step = int(os.path.basename(ckpt).split(\"_\")[1].split(\".pt\")[0])\n",
    "    print(f\"Evaluating step {step}…\", end=\" \")\n",
    "\n",
    "    # load the model + conf for exactly that step\n",
    "    model, conf = get_model_from_run(\n",
    "        run_path,\n",
    "        step=step,\n",
    "        DEVICE=DEVICE\n",
    "    )\n",
    "    model.eval()\n",
    "\n",
    "    # *** key change here: pass both xs_val and ys_val to forward ***\n",
    "    with torch.no_grad():\n",
    "        preds = model(xs_val, ys_val)\n",
    "        mse   = ((preds - ys_val).square().mean().item())\n",
    "\n",
    "    print(f\"MSE = {mse:.6f}\")\n",
    "    records.append({\"step\": step, \"mse\": mse})\n",
    "\n",
    "# ── 6) Restore your original state.pt ─────────────────────────────────\n",
    "if os.path.exists(backup_state):\n",
    "    copy2(backup_state, orig_state)\n",
    "\n",
    "# ── 7) Make a DataFrame & plot ───────────────────────────────────────\n",
    "df_ckpts = pd.DataFrame(records).sort_values(\"step\")\n",
    "print(df_ckpts)\n",
    "\n",
    "plt.figure(figsize=(6, 4))\n",
    "ax = sns.lineplot(data=df_ckpts, x=\"step\", y=\"mse\", marker=\"o\")\n",
    "ax.xaxis.set_major_locator(ticker.MultipleLocator(100_000))\n",
    "plt.title(f\"MSE vs. Training Step for run {run_id} in {run_dir} on {task}\")\n",
    "plt.xlabel(\"Training Step\")\n",
    "plt.ylabel(\"MSE (mean)\")\n",
    "plt.show()\n"
   ]
  },
  {
   "cell_type": "markdown",
   "id": "f65741e4",
   "metadata": {},
   "source": [
    "# Plot Train/Val Loss Curve"
   ]
  },
  {
   "cell_type": "code",
   "execution_count": null,
   "id": "e7dda63a",
   "metadata": {},
   "outputs": [
    {
     "ename": "CommError",
     "evalue": "Could not find run <Run qianyu2025-university-of-california-berkeley/in-context-training/77d790d5-6a46-4380-8d11-f26af1071c2d (not found)>",
     "output_type": "error",
     "traceback": [
      "\u001b[0;31m---------------------------------------------------------------------------\u001b[0m",
      "\u001b[0;31mValueError\u001b[0m                                Traceback (most recent call last)",
      "File \u001b[0;32m~/opt/anaconda3/envs/in-context-learning/lib/python3.8/site-packages/wandb/apis/normalize.py:24\u001b[0m, in \u001b[0;36mnormalize_exceptions.<locals>.wrapper\u001b[0;34m(*args, **kwargs)\u001b[0m\n\u001b[1;32m     23\u001b[0m \u001b[38;5;28;01mtry\u001b[39;00m:\n\u001b[0;32m---> 24\u001b[0m     \u001b[38;5;28;01mreturn\u001b[39;00m \u001b[43mfunc\u001b[49m\u001b[43m(\u001b[49m\u001b[38;5;241;43m*\u001b[39;49m\u001b[43margs\u001b[49m\u001b[43m,\u001b[49m\u001b[43m \u001b[49m\u001b[38;5;241;43m*\u001b[39;49m\u001b[38;5;241;43m*\u001b[39;49m\u001b[43mkwargs\u001b[49m\u001b[43m)\u001b[49m\n\u001b[1;32m     25\u001b[0m \u001b[38;5;28;01mexcept\u001b[39;00m requests\u001b[38;5;241m.\u001b[39mHTTPError \u001b[38;5;28;01mas\u001b[39;00m err:\n",
      "File \u001b[0;32m~/opt/anaconda3/envs/in-context-learning/lib/python3.8/site-packages/wandb/apis/public.py:699\u001b[0m, in \u001b[0;36mApi.run\u001b[0;34m(self, path)\u001b[0m\n\u001b[1;32m    698\u001b[0m \u001b[38;5;28;01mif\u001b[39;00m \u001b[38;5;129;01mnot\u001b[39;00m \u001b[38;5;28mself\u001b[39m\u001b[38;5;241m.\u001b[39m_runs\u001b[38;5;241m.\u001b[39mget(path):\n\u001b[0;32m--> 699\u001b[0m     \u001b[38;5;28mself\u001b[39m\u001b[38;5;241m.\u001b[39m_runs[path] \u001b[38;5;241m=\u001b[39m \u001b[43mRun\u001b[49m\u001b[43m(\u001b[49m\u001b[38;5;28;43mself\u001b[39;49m\u001b[38;5;241;43m.\u001b[39;49m\u001b[43mclient\u001b[49m\u001b[43m,\u001b[49m\u001b[43m \u001b[49m\u001b[43mentity\u001b[49m\u001b[43m,\u001b[49m\u001b[43m \u001b[49m\u001b[43mproject\u001b[49m\u001b[43m,\u001b[49m\u001b[43m \u001b[49m\u001b[43mrun\u001b[49m\u001b[43m)\u001b[49m\n\u001b[1;32m    700\u001b[0m \u001b[38;5;28;01mreturn\u001b[39;00m \u001b[38;5;28mself\u001b[39m\u001b[38;5;241m.\u001b[39m_runs[path]\n",
      "File \u001b[0;32m~/opt/anaconda3/envs/in-context-learning/lib/python3.8/site-packages/wandb/apis/public.py:1504\u001b[0m, in \u001b[0;36mRun.__init__\u001b[0;34m(self, client, entity, project, run_id, attrs)\u001b[0m\n\u001b[1;32m   1502\u001b[0m \u001b[38;5;28mself\u001b[39m\u001b[38;5;241m.\u001b[39m_state \u001b[38;5;241m=\u001b[39m attrs\u001b[38;5;241m.\u001b[39mget(\u001b[38;5;124m\"\u001b[39m\u001b[38;5;124mstate\u001b[39m\u001b[38;5;124m\"\u001b[39m, \u001b[38;5;124m\"\u001b[39m\u001b[38;5;124mnot found\u001b[39m\u001b[38;5;124m\"\u001b[39m)\n\u001b[0;32m-> 1504\u001b[0m \u001b[38;5;28;43mself\u001b[39;49m\u001b[38;5;241;43m.\u001b[39;49m\u001b[43mload\u001b[49m\u001b[43m(\u001b[49m\u001b[43mforce\u001b[49m\u001b[38;5;241;43m=\u001b[39;49m\u001b[38;5;129;43;01mnot\u001b[39;49;00m\u001b[43m \u001b[49m\u001b[43mattrs\u001b[49m\u001b[43m)\u001b[49m\n",
      "File \u001b[0;32m~/opt/anaconda3/envs/in-context-learning/lib/python3.8/site-packages/wandb/apis/public.py:1608\u001b[0m, in \u001b[0;36mRun.load\u001b[0;34m(self, force)\u001b[0m\n\u001b[1;32m   1603\u001b[0m \u001b[38;5;28;01mif\u001b[39;00m (\n\u001b[1;32m   1604\u001b[0m     response \u001b[38;5;129;01mis\u001b[39;00m \u001b[38;5;28;01mNone\u001b[39;00m\n\u001b[1;32m   1605\u001b[0m     \u001b[38;5;129;01mor\u001b[39;00m response\u001b[38;5;241m.\u001b[39mget(\u001b[38;5;124m\"\u001b[39m\u001b[38;5;124mproject\u001b[39m\u001b[38;5;124m\"\u001b[39m) \u001b[38;5;129;01mis\u001b[39;00m \u001b[38;5;28;01mNone\u001b[39;00m\n\u001b[1;32m   1606\u001b[0m     \u001b[38;5;129;01mor\u001b[39;00m response[\u001b[38;5;124m\"\u001b[39m\u001b[38;5;124mproject\u001b[39m\u001b[38;5;124m\"\u001b[39m]\u001b[38;5;241m.\u001b[39mget(\u001b[38;5;124m\"\u001b[39m\u001b[38;5;124mrun\u001b[39m\u001b[38;5;124m\"\u001b[39m) \u001b[38;5;129;01mis\u001b[39;00m \u001b[38;5;28;01mNone\u001b[39;00m\n\u001b[1;32m   1607\u001b[0m ):\n\u001b[0;32m-> 1608\u001b[0m     \u001b[38;5;28;01mraise\u001b[39;00m \u001b[38;5;167;01mValueError\u001b[39;00m(\u001b[38;5;124m\"\u001b[39m\u001b[38;5;124mCould not find run \u001b[39m\u001b[38;5;132;01m%s\u001b[39;00m\u001b[38;5;124m\"\u001b[39m \u001b[38;5;241m%\u001b[39m \u001b[38;5;28mself\u001b[39m)\n\u001b[1;32m   1609\u001b[0m \u001b[38;5;28mself\u001b[39m\u001b[38;5;241m.\u001b[39m_attrs \u001b[38;5;241m=\u001b[39m response[\u001b[38;5;124m\"\u001b[39m\u001b[38;5;124mproject\u001b[39m\u001b[38;5;124m\"\u001b[39m][\u001b[38;5;124m\"\u001b[39m\u001b[38;5;124mrun\u001b[39m\u001b[38;5;124m\"\u001b[39m]\n",
      "\u001b[0;31mValueError\u001b[0m: Could not find run <Run qianyu2025-university-of-california-berkeley/in-context-training/77d790d5-6a46-4380-8d11-f26af1071c2d (not found)>",
      "\nDuring handling of the above exception, another exception occurred:\n",
      "\u001b[0;31mCommError\u001b[0m                                 Traceback (most recent call last)",
      "Cell \u001b[0;32mIn[11], line 11\u001b[0m\n\u001b[1;32m      9\u001b[0m run_path \u001b[38;5;241m=\u001b[39m \u001b[38;5;124m\"\u001b[39m\u001b[38;5;124mqianyu2025-university-of-california-berkeley/in-context-training/77d790d5-6a46-4380-8d11-f26af1071c2d\u001b[39m\u001b[38;5;124m\"\u001b[39m \u001b[38;5;66;03m# standard piecewise scalar\u001b[39;00m\n\u001b[1;32m     10\u001b[0m \u001b[38;5;66;03m# run_path = \"qianyu2025-university-of-california-berkeley/in-context-training/9mcne8c0\" # tiny piecewise scalar\u001b[39;00m\n\u001b[0;32m---> 11\u001b[0m run \u001b[38;5;241m=\u001b[39m \u001b[43mapi\u001b[49m\u001b[38;5;241;43m.\u001b[39;49m\u001b[43mrun\u001b[49m\u001b[43m(\u001b[49m\u001b[38;5;124;43mf\u001b[39;49m\u001b[38;5;124;43m\"\u001b[39;49m\u001b[38;5;132;43;01m{\u001b[39;49;00m\u001b[43mrun_path\u001b[49m\u001b[38;5;132;43;01m}\u001b[39;49;00m\u001b[38;5;124;43m\"\u001b[39;49m\u001b[43m)\u001b[49m  \u001b[38;5;66;03m# e.g. \"me/myproj/abc123\"\u001b[39;00m\n",
      "File \u001b[0;32m~/opt/anaconda3/envs/in-context-learning/lib/python3.8/site-packages/wandb/apis/normalize.py:62\u001b[0m, in \u001b[0;36mnormalize_exceptions.<locals>.wrapper\u001b[0;34m(*args, **kwargs)\u001b[0m\n\u001b[1;32m     60\u001b[0m     six\u001b[38;5;241m.\u001b[39mreraise(\u001b[38;5;241m*\u001b[39msys\u001b[38;5;241m.\u001b[39mexc_info())\n\u001b[1;32m     61\u001b[0m \u001b[38;5;28;01melse\u001b[39;00m:\n\u001b[0;32m---> 62\u001b[0m     \u001b[43msix\u001b[49m\u001b[38;5;241;43m.\u001b[39;49m\u001b[43mreraise\u001b[49m\u001b[43m(\u001b[49m\u001b[43mCommError\u001b[49m\u001b[43m,\u001b[49m\u001b[43m \u001b[49m\u001b[43mCommError\u001b[49m\u001b[43m(\u001b[49m\u001b[43mmessage\u001b[49m\u001b[43m,\u001b[49m\u001b[43m \u001b[49m\u001b[43merr\u001b[49m\u001b[43m)\u001b[49m\u001b[43m,\u001b[49m\u001b[43m \u001b[49m\u001b[43msys\u001b[49m\u001b[38;5;241;43m.\u001b[39;49m\u001b[43mexc_info\u001b[49m\u001b[43m(\u001b[49m\u001b[43m)\u001b[49m\u001b[43m[\u001b[49m\u001b[38;5;241;43m2\u001b[39;49m\u001b[43m]\u001b[49m\u001b[43m)\u001b[49m\n",
      "File \u001b[0;32m~/opt/anaconda3/envs/in-context-learning/lib/python3.8/site-packages/six.py:723\u001b[0m, in \u001b[0;36mreraise\u001b[0;34m(tp, value, tb)\u001b[0m\n\u001b[1;32m    721\u001b[0m         value \u001b[38;5;241m=\u001b[39m tp()\n\u001b[1;32m    722\u001b[0m     \u001b[38;5;28;01mif\u001b[39;00m value\u001b[38;5;241m.\u001b[39m__traceback__ \u001b[38;5;129;01mis\u001b[39;00m \u001b[38;5;129;01mnot\u001b[39;00m tb:\n\u001b[0;32m--> 723\u001b[0m         \u001b[38;5;28;01mraise\u001b[39;00m value\u001b[38;5;241m.\u001b[39mwith_traceback(tb)\n\u001b[1;32m    724\u001b[0m     \u001b[38;5;28;01mraise\u001b[39;00m value\n\u001b[1;32m    725\u001b[0m \u001b[38;5;28;01mfinally\u001b[39;00m:\n",
      "File \u001b[0;32m~/opt/anaconda3/envs/in-context-learning/lib/python3.8/site-packages/wandb/apis/normalize.py:24\u001b[0m, in \u001b[0;36mnormalize_exceptions.<locals>.wrapper\u001b[0;34m(*args, **kwargs)\u001b[0m\n\u001b[1;32m     22\u001b[0m message \u001b[38;5;241m=\u001b[39m \u001b[38;5;124m\"\u001b[39m\u001b[38;5;124mWhoa, you found a bug.\u001b[39m\u001b[38;5;124m\"\u001b[39m\n\u001b[1;32m     23\u001b[0m \u001b[38;5;28;01mtry\u001b[39;00m:\n\u001b[0;32m---> 24\u001b[0m     \u001b[38;5;28;01mreturn\u001b[39;00m \u001b[43mfunc\u001b[49m\u001b[43m(\u001b[49m\u001b[38;5;241;43m*\u001b[39;49m\u001b[43margs\u001b[49m\u001b[43m,\u001b[49m\u001b[43m \u001b[49m\u001b[38;5;241;43m*\u001b[39;49m\u001b[38;5;241;43m*\u001b[39;49m\u001b[43mkwargs\u001b[49m\u001b[43m)\u001b[49m\n\u001b[1;32m     25\u001b[0m \u001b[38;5;28;01mexcept\u001b[39;00m requests\u001b[38;5;241m.\u001b[39mHTTPError \u001b[38;5;28;01mas\u001b[39;00m err:\n\u001b[1;32m     26\u001b[0m     \u001b[38;5;28;01mraise\u001b[39;00m CommError(err\u001b[38;5;241m.\u001b[39mresponse, err)\n",
      "File \u001b[0;32m~/opt/anaconda3/envs/in-context-learning/lib/python3.8/site-packages/wandb/apis/public.py:699\u001b[0m, in \u001b[0;36mApi.run\u001b[0;34m(self, path)\u001b[0m\n\u001b[1;32m    697\u001b[0m entity, project, run \u001b[38;5;241m=\u001b[39m \u001b[38;5;28mself\u001b[39m\u001b[38;5;241m.\u001b[39m_parse_path(path)\n\u001b[1;32m    698\u001b[0m \u001b[38;5;28;01mif\u001b[39;00m \u001b[38;5;129;01mnot\u001b[39;00m \u001b[38;5;28mself\u001b[39m\u001b[38;5;241m.\u001b[39m_runs\u001b[38;5;241m.\u001b[39mget(path):\n\u001b[0;32m--> 699\u001b[0m     \u001b[38;5;28mself\u001b[39m\u001b[38;5;241m.\u001b[39m_runs[path] \u001b[38;5;241m=\u001b[39m \u001b[43mRun\u001b[49m\u001b[43m(\u001b[49m\u001b[38;5;28;43mself\u001b[39;49m\u001b[38;5;241;43m.\u001b[39;49m\u001b[43mclient\u001b[49m\u001b[43m,\u001b[49m\u001b[43m \u001b[49m\u001b[43mentity\u001b[49m\u001b[43m,\u001b[49m\u001b[43m \u001b[49m\u001b[43mproject\u001b[49m\u001b[43m,\u001b[49m\u001b[43m \u001b[49m\u001b[43mrun\u001b[49m\u001b[43m)\u001b[49m\n\u001b[1;32m    700\u001b[0m \u001b[38;5;28;01mreturn\u001b[39;00m \u001b[38;5;28mself\u001b[39m\u001b[38;5;241m.\u001b[39m_runs[path]\n",
      "File \u001b[0;32m~/opt/anaconda3/envs/in-context-learning/lib/python3.8/site-packages/wandb/apis/public.py:1504\u001b[0m, in \u001b[0;36mRun.__init__\u001b[0;34m(self, client, entity, project, run_id, attrs)\u001b[0m\n\u001b[1;32m   1501\u001b[0m \u001b[38;5;28mself\u001b[39m\u001b[38;5;241m.\u001b[39m_summary \u001b[38;5;241m=\u001b[39m \u001b[38;5;28;01mNone\u001b[39;00m\n\u001b[1;32m   1502\u001b[0m \u001b[38;5;28mself\u001b[39m\u001b[38;5;241m.\u001b[39m_state \u001b[38;5;241m=\u001b[39m attrs\u001b[38;5;241m.\u001b[39mget(\u001b[38;5;124m\"\u001b[39m\u001b[38;5;124mstate\u001b[39m\u001b[38;5;124m\"\u001b[39m, \u001b[38;5;124m\"\u001b[39m\u001b[38;5;124mnot found\u001b[39m\u001b[38;5;124m\"\u001b[39m)\n\u001b[0;32m-> 1504\u001b[0m \u001b[38;5;28;43mself\u001b[39;49m\u001b[38;5;241;43m.\u001b[39;49m\u001b[43mload\u001b[49m\u001b[43m(\u001b[49m\u001b[43mforce\u001b[49m\u001b[38;5;241;43m=\u001b[39;49m\u001b[38;5;129;43;01mnot\u001b[39;49;00m\u001b[43m \u001b[49m\u001b[43mattrs\u001b[49m\u001b[43m)\u001b[49m\n",
      "File \u001b[0;32m~/opt/anaconda3/envs/in-context-learning/lib/python3.8/site-packages/wandb/apis/public.py:1608\u001b[0m, in \u001b[0;36mRun.load\u001b[0;34m(self, force)\u001b[0m\n\u001b[1;32m   1602\u001b[0m response \u001b[38;5;241m=\u001b[39m \u001b[38;5;28mself\u001b[39m\u001b[38;5;241m.\u001b[39m_exec(query)\n\u001b[1;32m   1603\u001b[0m \u001b[38;5;28;01mif\u001b[39;00m (\n\u001b[1;32m   1604\u001b[0m     response \u001b[38;5;129;01mis\u001b[39;00m \u001b[38;5;28;01mNone\u001b[39;00m\n\u001b[1;32m   1605\u001b[0m     \u001b[38;5;129;01mor\u001b[39;00m response\u001b[38;5;241m.\u001b[39mget(\u001b[38;5;124m\"\u001b[39m\u001b[38;5;124mproject\u001b[39m\u001b[38;5;124m\"\u001b[39m) \u001b[38;5;129;01mis\u001b[39;00m \u001b[38;5;28;01mNone\u001b[39;00m\n\u001b[1;32m   1606\u001b[0m     \u001b[38;5;129;01mor\u001b[39;00m response[\u001b[38;5;124m\"\u001b[39m\u001b[38;5;124mproject\u001b[39m\u001b[38;5;124m\"\u001b[39m]\u001b[38;5;241m.\u001b[39mget(\u001b[38;5;124m\"\u001b[39m\u001b[38;5;124mrun\u001b[39m\u001b[38;5;124m\"\u001b[39m) \u001b[38;5;129;01mis\u001b[39;00m \u001b[38;5;28;01mNone\u001b[39;00m\n\u001b[1;32m   1607\u001b[0m ):\n\u001b[0;32m-> 1608\u001b[0m     \u001b[38;5;28;01mraise\u001b[39;00m \u001b[38;5;167;01mValueError\u001b[39;00m(\u001b[38;5;124m\"\u001b[39m\u001b[38;5;124mCould not find run \u001b[39m\u001b[38;5;132;01m%s\u001b[39;00m\u001b[38;5;124m\"\u001b[39m \u001b[38;5;241m%\u001b[39m \u001b[38;5;28mself\u001b[39m)\n\u001b[1;32m   1609\u001b[0m \u001b[38;5;28mself\u001b[39m\u001b[38;5;241m.\u001b[39m_attrs \u001b[38;5;241m=\u001b[39m response[\u001b[38;5;124m\"\u001b[39m\u001b[38;5;124mproject\u001b[39m\u001b[38;5;124m\"\u001b[39m][\u001b[38;5;124m\"\u001b[39m\u001b[38;5;124mrun\u001b[39m\u001b[38;5;124m\"\u001b[39m]\n\u001b[1;32m   1610\u001b[0m \u001b[38;5;28mself\u001b[39m\u001b[38;5;241m.\u001b[39m_state \u001b[38;5;241m=\u001b[39m \u001b[38;5;28mself\u001b[39m\u001b[38;5;241m.\u001b[39m_attrs[\u001b[38;5;124m\"\u001b[39m\u001b[38;5;124mstate\u001b[39m\u001b[38;5;124m\"\u001b[39m]\n",
      "\u001b[0;31mCommError\u001b[0m: Could not find run <Run qianyu2025-university-of-california-berkeley/in-context-training/77d790d5-6a46-4380-8d11-f26af1071c2d (not found)>"
     ]
    }
   ],
   "source": [
    "import wandb\n",
    "import matplotlib.pyplot as plt\n",
    "\n",
    "# 1) Initialize the API\n",
    "api = wandb.Api()\n",
    "\n",
    "# 2) Load your run by its full path: \"<entity>/<project>/<run_id>\"\n",
    "#    e.g. \"myusername/myproject/abcd1234\"\n",
    "run_path = \"qianyu2025-university-of-california-berkeley/in-context-training/vald3twu\" # standard piecewise scalar\n",
    "# run_path = \"qianyu2025-university-of-california-berkeley/in-context-training/9mcne8c0\" # tiny piecewise scalar\n",
    "run = api.run(f\"{run_path}\")  # e.g. \"me/myproj/abc123\""
   ]
  },
  {
   "cell_type": "code",
   "execution_count": null,
   "id": "99bd3d2d",
   "metadata": {},
   "outputs": [
    {
     "ename": "NameError",
     "evalue": "name 'run' is not defined",
     "output_type": "error",
     "traceback": [
      "\u001b[0;31m---------------------------------------------------------------------------\u001b[0m",
      "\u001b[0;31mNameError\u001b[0m                                 Traceback (most recent call last)",
      "Cell \u001b[0;32mIn[10], line 2\u001b[0m\n\u001b[1;32m      1\u001b[0m \u001b[38;5;66;03m# 3) Download the history for just the two loss keys\u001b[39;00m\n\u001b[0;32m----> 2\u001b[0m hist \u001b[38;5;241m=\u001b[39m \u001b[43mrun\u001b[49m\u001b[38;5;241m.\u001b[39mhistory(keys\u001b[38;5;241m=\u001b[39m[\u001b[38;5;124m\"\u001b[39m\u001b[38;5;124moverall_loss\u001b[39m\u001b[38;5;124m\"\u001b[39m])\n\u001b[1;32m      4\u001b[0m \u001b[38;5;66;03m# 4) Convert to Python lists\u001b[39;00m\n\u001b[1;32m      5\u001b[0m train_losses \u001b[38;5;241m=\u001b[39m hist[\u001b[38;5;124m\"\u001b[39m\u001b[38;5;124moverall_loss\u001b[39m\u001b[38;5;124m\"\u001b[39m]\u001b[38;5;241m.\u001b[39mtolist()\n",
      "\u001b[0;31mNameError\u001b[0m: name 'run' is not defined"
     ]
    }
   ],
   "source": [
    "# 3) Download the history for just the two loss keys\n",
    "hist = run.history(keys=[\"overall_loss\"])\n",
    "\n",
    "# 4) Convert to Python lists\n",
    "train_losses = hist[\"overall_loss\"].tolist()\n",
    "\n",
    "\n",
    "# 5) Plot\n",
    "epochs = range(1, len(train_losses) + 1)\n",
    "plt.plot(epochs, train_losses, label=\"Train Loss\")\n",
    "plt.xlabel(\"Train Steps (k)\")\n",
    "plt.ylabel(\"MSE Loss\")\n",
    "plt.title(\"Training Loss\")\n",
    "plt.legend()\n",
    "plt.grid(True)\n",
    "plt.show()"
   ]
  },
  {
   "cell_type": "markdown",
   "id": "25002b8d",
   "metadata": {},
   "source": [
    "## Plot OOD metric"
   ]
  },
  {
   "cell_type": "code",
   "execution_count": 22,
   "id": "31b4ecca",
   "metadata": {
    "scrolled": true
   },
   "outputs": [],
   "source": [
    "# plot any OOD metrics\n",
    "for name, metric in metrics.items():\n",
    "    if name == \"standard\": continue\n",
    "   \n",
    "    if \"scale\" in name:\n",
    "        scale = float(name.split(\"=\")[-1])**2\n",
    "    else:\n",
    "        scale = 1.0\n",
    "\n",
    "    trivial = 1.0 if \"noisy\" not in name else (1+1/n_dims)\n",
    "    fig, ax = basic_plot(metric, models=models, trivial=trivial * scale)\n",
    "    ax.set_title(name)\n",
    "    \n",
    "    if \"ortho\" in name:\n",
    "        ax.set_xlim(-1, n_dims - 1)\n",
    "    ax.set_ylim(-.1 * scale, 1.5 * scale)\n",
    "\n",
    "    plt.show()"
   ]
  },
  {
   "cell_type": "markdown",
   "id": "e6f961d4",
   "metadata": {},
   "source": [
    "# Interactive setup\n",
    "\n",
    "We will now directly load the model and measure its in-context learning ability on a batch of random inputs. (In the paper we average over multiple such batches to obtain better estimates.)"
   ]
  },
  {
   "cell_type": "code",
   "execution_count": 20,
   "id": "beb327ce",
   "metadata": {},
   "outputs": [],
   "source": [
    "from data_generation import get_data_sampler, get_task_sampler"
   ]
  },
  {
   "cell_type": "code",
   "execution_count": 21,
   "id": "03523b06",
   "metadata": {},
   "outputs": [],
   "source": [
    "model, conf = get_model_from_run(run_path,DEVICE=DEVICE)\n",
    "\n",
    "n_dims = conf.model.n_dims\n",
    "batch_size = conf.training.batch_size\n",
    "\n",
    "data_sampler = get_data_sampler(conf.training.data, n_dims)\n",
    "task_sampler = get_task_sampler(\n",
    "    conf.training.task,\n",
    "    n_dims,\n",
    "    batch_size,\n",
    "    **conf.training.task_kwargs\n",
    ")"
   ]
  },
  {
   "cell_type": "code",
   "execution_count": 22,
   "id": "1d9da7c3",
   "metadata": {},
   "outputs": [],
   "source": [
    "task = task_sampler()\n",
    "xs = data_sampler.sample_xs(b_size=batch_size, n_points=conf.training.curriculum.points.end)\n",
    "ys = task.evaluate(xs)"
   ]
  },
  {
   "cell_type": "code",
   "execution_count": 23,
   "id": "cb69ddda",
   "metadata": {},
   "outputs": [
    {
     "name": "stdout",
     "output_type": "stream",
     "text": [
      "Intel MKL WARNING: Support of Intel(R) Streaming SIMD Extensions 4.2 (Intel(R) SSE4.2) enabled only processors has been deprecated. Intel oneAPI Math Kernel Library 2025.0 will require Intel(R) Advanced Vector Extensions (Intel(R) AVX) instructions.\n"
     ]
    }
   ],
   "source": [
    "with torch.no_grad():\n",
    "    pred = model(xs, ys)"
   ]
  },
  {
   "cell_type": "code",
   "execution_count": 24,
   "id": "2aa97fa5",
   "metadata": {},
   "outputs": [
    {
     "data": {
      "image/png": "[encoded data removed]",
      "text/plain": [
       "<Figure size 640x480 with 1 Axes>"
      ]
     },
     "metadata": {},
     "output_type": "display_data"
    }
   ],
   "source": [
    "metric = task.get_metric()\n",
    "loss = metric(pred, ys).numpy()\n",
    "\n",
    "sparsity = conf.training.task_kwargs.sparsity if \"sparsity\" in conf.training.task_kwargs else None\n",
    "baseline = {\n",
    "    \"piecewise_linear_regression\": 1,\n",
    "    \"linear_regression\": n_dims,\n",
    "    \"sparse_linear_regression\": sparsity,\n",
    "    \"relu_2nn_regression\": n_dims,\n",
    "    \"decision_tree\": 1,\n",
    "}[conf.training.task]\n",
    "\n",
    "plt.plot(loss.mean(axis=0), lw=2, label=\"Transformer\")\n",
    "plt.axhline(baseline, ls=\"--\", color=\"gray\", label=\"zero estimator\")\n",
    "plt.xlabel(\"# in-context examples\")\n",
    "plt.ylabel(\"squared error\")\n",
    "plt.legend()\n",
    "plt.show()"
   ]
  },
  {
   "cell_type": "markdown",
   "id": "eae775a1",
   "metadata": {},
   "source": [
    "As an exploration example, let's see how robust the model is to doubling all the inputs."
   ]
  },
  {
   "cell_type": "code",
   "execution_count": 11,
   "id": "a58e04e4",
   "metadata": {},
   "outputs": [],
   "source": [
    "xs2 = 2 * xs\n",
    "ys2 = task.evaluate(xs2)\n",
    "with torch.no_grad():\n",
    "    pred2 = model(xs2, ys2)"
   ]
  },
  {
   "cell_type": "code",
   "execution_count": 12,
   "id": "7ea71ba5",
   "metadata": {},
   "outputs": [
    {
     "data": {
      "image/png": "[encoded data removed]",
      "text/plain": [
       "<Figure size 432x288 with 1 Axes>"
      ]
     },
     "metadata": {},
     "output_type": "display_data"
    }
   ],
   "source": [
    "loss2 = metric(pred2, ys2).numpy()\n",
    "\n",
    "plt.plot(loss.mean(axis=0), lw=2, label=\"Transformer\")\n",
    "plt.plot(loss2.mean(axis=0) / 4, lw=2, label=\"Transformer on doubled inputs\")\n",
    "plt.axhline(baseline, ls=\"--\", color=\"gray\", label=\"zero estimator\")\n",
    "plt.xlabel(\"# in-context examples\")\n",
    "plt.ylabel(\"squared error\")\n",
    "plt.legend()\n",
    "plt.show()"
   ]
  },
  {
   "cell_type": "markdown",
   "id": "021f118e",
   "metadata": {},
   "source": [
    "The error does increase, especially when the number of in-context examples exceeds the dimension, but the model is still relatively accurate."
   ]
  }
 ],
 "metadata": {
  "kernelspec": {
   "display_name": "in-context-learning",
   "language": "python",
   "name": "python3"
  },
  "language_info": {
   "codemirror_mode": {
    "name": "ipython",
    "version": 3
   },
   "file_extension": ".py",
   "mimetype": "text/x-python",
   "name": "python",
   "nbconvert_exporter": "python",
   "pygments_lexer": "ipython3",
   "version": "3.8.12"
  }
 },
 "nbformat": 4,
 "nbformat_minor": 5
}
