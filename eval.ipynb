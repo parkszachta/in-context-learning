{
 "cells": [
  {
   "cell_type": "code",
   "execution_count": 122,
   "id": "ed6cfeb1",
   "metadata": {
    "editable": true,
    "slideshow": {
     "slide_type": ""
    },
    "tags": []
   },
   "outputs": [
    {
     "name": "stdout",
     "output_type": "stream",
     "text": [
      "The autoreload extension is already loaded. To reload it, use:\n",
      "  %reload_ext autoreload\n"
     ]
    }
   ],
   "source": [
    "from collections import OrderedDict\n",
    "import re\n",
    "import os\n",
    "\n",
    "import matplotlib.pyplot as plt\n",
    "import pandas as pd\n",
    "import seaborn as sns\n",
    "import torch\n",
    "from tqdm.notebook import tqdm\n",
    "\n",
    "from eval import get_run_metrics, read_run_dir, get_model_from_run\n",
    "from plot_utils import basic_plot, collect_results, relevant_model_names\n",
    "\n",
    "from shutil import copy2\n",
    "import glob\n",
    "\n",
    "import numpy as np\n",
    "from math import exp\n",
    "\n",
    "%matplotlib inline\n",
    "%load_ext autoreload\n",
    "%autoreload 2\n",
    "\n",
    "sns.set_theme('notebook', 'darkgrid')\n",
    "palette = sns.color_palette('colorblind')\n",
    "\n",
    "run_dir = \"../models_scaling\""
   ]
  },
  {
   "cell_type": "markdown",
   "id": "0c6d8382",
   "metadata": {},
   "source": [
    "# Eval model and baseline models"
   ]
  },
  {
   "cell_type": "code",
   "execution_count": 123,
   "id": "0e8d018b",
   "metadata": {
    "scrolled": true
   },
   "outputs": [
    {
     "data": {
      "text/html": [
       "<div>\n",
       "<style scoped>\n",
       "    .dataframe tbody tr th:only-of-type {\n",
       "        vertical-align: middle;\n",
       "    }\n",
       "\n",
       "    .dataframe tbody tr th {\n",
       "        vertical-align: top;\n",
       "    }\n",
       "\n",
       "    .dataframe thead th {\n",
       "        text-align: right;\n",
       "    }\n",
       "</style>\n",
       "<table border=\"1\" class=\"dataframe\">\n",
       "  <thead>\n",
       "    <tr style=\"text-align: right;\">\n",
       "      <th></th>\n",
       "      <th>run_id</th>\n",
       "      <th>task</th>\n",
       "      <th>model</th>\n",
       "      <th>kwargs</th>\n",
       "      <th>num_tasks</th>\n",
       "      <th>num_examples</th>\n",
       "      <th>n_dims</th>\n",
       "      <th>n_layer</th>\n",
       "      <th>n_head</th>\n",
       "      <th>run_name</th>\n",
       "    </tr>\n",
       "  </thead>\n",
       "  <tbody>\n",
       "    <tr>\n",
       "      <th>0</th>\n",
       "      <td>2_9c42ee16-9336-4050-a623-618f437eedb4</td>\n",
       "      <td>piecewise_linear_vector_regression_2</td>\n",
       "      <td>Transformer-2</td>\n",
       "      <td></td>\n",
       "      <td>-1</td>\n",
       "      <td>-1</td>\n",
       "      <td>5</td>\n",
       "      <td>1</td>\n",
       "      <td>1</td>\n",
       "      <td>piecewise_linear_vector_regression</td>\n",
       "    </tr>\n",
       "    <tr>\n",
       "      <th>1</th>\n",
       "      <td>5_af723d3c-b098-41ea-956b-edbb60f46c3b</td>\n",
       "      <td>piecewise_linear_vector_regression_5</td>\n",
       "      <td>Transformer-5</td>\n",
       "      <td></td>\n",
       "      <td>-1</td>\n",
       "      <td>-1</td>\n",
       "      <td>5</td>\n",
       "      <td>3</td>\n",
       "      <td>4</td>\n",
       "      <td>piecewise_linear_vector_regression</td>\n",
       "    </tr>\n",
       "    <tr>\n",
       "      <th>2</th>\n",
       "      <td>4_d6e50281-2882-43ea-a180-5df31ee420c8</td>\n",
       "      <td>piecewise_linear_vector_regression_4</td>\n",
       "      <td>Transformer-4</td>\n",
       "      <td></td>\n",
       "      <td>-1</td>\n",
       "      <td>-1</td>\n",
       "      <td>5</td>\n",
       "      <td>2</td>\n",
       "      <td>2</td>\n",
       "      <td>piecewise_linear_vector_regression</td>\n",
       "    </tr>\n",
       "    <tr>\n",
       "      <th>3</th>\n",
       "      <td>3_b8066803-09e6-48af-b9d4-ee552e93d153</td>\n",
       "      <td>piecewise_linear_vector_regression_3</td>\n",
       "      <td>Transformer-3</td>\n",
       "      <td></td>\n",
       "      <td>-1</td>\n",
       "      <td>-1</td>\n",
       "      <td>5</td>\n",
       "      <td>1</td>\n",
       "      <td>2</td>\n",
       "      <td>piecewise_linear_vector_regression</td>\n",
       "    </tr>\n",
       "    <tr>\n",
       "      <th>4</th>\n",
       "      <td>6_106be8b9-7268-4f32-854e-c2037048f87e</td>\n",
       "      <td>piecewise_linear_vector_regression_6</td>\n",
       "      <td>Transformer-6</td>\n",
       "      <td></td>\n",
       "      <td>-1</td>\n",
       "      <td>-1</td>\n",
       "      <td>5</td>\n",
       "      <td>3</td>\n",
       "      <td>4</td>\n",
       "      <td>piecewise_linear_vector_regression</td>\n",
       "    </tr>\n",
       "    <tr>\n",
       "      <th>5</th>\n",
       "      <td>1_ecc9ae01-590b-46c8-9c3e-2ac4a6e3e8cc</td>\n",
       "      <td>piecewise_linear_vector_regression_1</td>\n",
       "      <td>Transformer-1</td>\n",
       "      <td></td>\n",
       "      <td>-1</td>\n",
       "      <td>-1</td>\n",
       "      <td>5</td>\n",
       "      <td>1</td>\n",
       "      <td>1</td>\n",
       "      <td>piecewise_linear_vector_regression</td>\n",
       "    </tr>\n",
       "  </tbody>\n",
       "</table>\n",
       "</div>"
      ],
      "text/plain": [
       "                                   run_id  \\\n",
       "0  2_9c42ee16-9336-4050-a623-618f437eedb4   \n",
       "1  5_af723d3c-b098-41ea-956b-edbb60f46c3b   \n",
       "2  4_d6e50281-2882-43ea-a180-5df31ee420c8   \n",
       "3  3_b8066803-09e6-48af-b9d4-ee552e93d153   \n",
       "4  6_106be8b9-7268-4f32-854e-c2037048f87e   \n",
       "5  1_ecc9ae01-590b-46c8-9c3e-2ac4a6e3e8cc   \n",
       "\n",
       "                                   task          model kwargs  num_tasks  \\\n",
       "0  piecewise_linear_vector_regression_2  Transformer-2                -1   \n",
       "1  piecewise_linear_vector_regression_5  Transformer-5                -1   \n",
       "2  piecewise_linear_vector_regression_4  Transformer-4                -1   \n",
       "3  piecewise_linear_vector_regression_3  Transformer-3                -1   \n",
       "4  piecewise_linear_vector_regression_6  Transformer-6                -1   \n",
       "5  piecewise_linear_vector_regression_1  Transformer-1                -1   \n",
       "\n",
       "   num_examples  n_dims  n_layer  n_head                            run_name  \n",
       "0            -1       5        1       1  piecewise_linear_vector_regression  \n",
       "1            -1       5        3       4  piecewise_linear_vector_regression  \n",
       "2            -1       5        2       2  piecewise_linear_vector_regression  \n",
       "3            -1       5        1       2  piecewise_linear_vector_regression  \n",
       "4            -1       5        3       4  piecewise_linear_vector_regression  \n",
       "5            -1       5        1       1  piecewise_linear_vector_regression  "
      ]
     },
     "execution_count": 123,
     "metadata": {},
     "output_type": "execute_result"
    }
   ],
   "source": [
    "# %rm -rf trained_models/models_standard/.DS_Store\n",
    "# %rm -rf trained_models/models_standard/piecewise_linear_vector_regression/.DS_Store\n",
    "# %rm -rf trained_models/models_standard/piecewise_linear_regression/.DS_Store\n",
    "# %rm -rf trained_models/models_tiny/.DS_Store\n",
    "# %rm -rf trained_models/models_tiny/piecewise_linear_vector_regression/.DS_Store\n",
    "# %rm -rf trained_models/models_tiny/piecewise_linear_vector_regression_multi_pivot/.DS_Store\n",
    "# %rm -rf trained_models/models_tiny/piecewise_linear_regression/.DS_Store\n",
    "df = read_run_dir(run_dir)\n",
    "df  # list all the runs in our run_dir"
   ]
  },
  {
   "cell_type": "code",
   "execution_count": 84,
   "id": "41c2d609",
   "metadata": {},
   "outputs": [
    {
     "name": "stdout",
     "output_type": "stream",
     "text": [
      "Using device → cpu\n"
     ]
    }
   ],
   "source": [
    "# ------------------------------------------------------------------\n",
    "# Pick one global device; on your Mac this will be \"cpu\".\n",
    "# ------------------------------------------------------------------\n",
    "if torch.cuda.is_available():\n",
    "    DEVICE = \"cuda\"\n",
    "else:\n",
    "    DEVICE = \"cpu\"\n",
    "print(\"Using device →\", DEVICE)"
   ]
  },
  {
   "cell_type": "code",
   "execution_count": 124,
   "id": "a9980951",
   "metadata": {},
   "outputs": [
    {
     "name": "stderr",
     "output_type": "stream",
     "text": [
      "100%|██████████| 1/1 [00:04<00:00,  4.59s/it]\n"
     ]
    }
   ],
   "source": [
    "# task = \"piecewise_linear_regression\"\n",
    "task = \"piecewise_linear_vector_regression_6\"\n",
    "# task = \"piecewise_linear_vector_regression_multi_pivot\"\n",
    "# task = \"sparse_linear_regression\"\n",
    "# task = \"decision_tree\"\n",
    "# task = \"relu_2nn_regression\"\n",
    "\n",
    "run_id = \"6_106be8b9-7268-4f32-854e-c2037048f87e\"  # if you train more models, replace with the run_id from the table above\n",
    "\n",
    "run_path = os.path.join(run_dir, task, run_id)\n",
    "recompute_metrics = True\n",
    "skip_baselines = True\n",
    "\n",
    "if recompute_metrics:\n",
    "    get_run_metrics(run_path, skip_baselines = skip_baselines, DEVICE=DEVICE)  # these are normally precomputed at the end of training"
   ]
  },
  {
   "cell_type": "markdown",
   "id": "f6d09964",
   "metadata": {},
   "source": [
    "# Plot pre-computed metrics"
   ]
  },
  {
   "cell_type": "code",
   "execution_count": 125,
   "id": "a8bc2584",
   "metadata": {},
   "outputs": [
    {
     "name": "stdout",
     "output_type": "stream",
     "text": [
      "piecewise_linear_vector_regression 6_106be8b9-7268-4f32-854e-c2037048f87e\n"
     ]
    },
    {
     "name": "stderr",
     "output_type": "stream",
     "text": [
      "100%|██████████| 1/1 [00:00<00:00, 19599.55it/s]\n"
     ]
    },
    {
     "data": {
      "text/plain": [
       "dict_keys(['Transformer-6'])"
      ]
     },
     "execution_count": 125,
     "metadata": {},
     "output_type": "execute_result"
    }
   ],
   "source": [
    "def valid_row(r):\n",
    "    return r.task == task and r.run_id == run_id\n",
    "\n",
    "metrics = collect_results(run_dir, df, valid_row=valid_row)\n",
    "metrics['standard'].keys()"
   ]
  },
  {
   "cell_type": "markdown",
   "id": "56165874",
   "metadata": {},
   "source": [
    "# The following code block is only for standard models, not tiny models."
   ]
  },
  {
   "cell_type": "code",
   "execution_count": 87,
   "id": "cd8e02c5",
   "metadata": {},
   "outputs": [
    {
     "name": "stdout",
     "output_type": "stream",
     "text": [
      "piecewise_linear_vector_regression 1_ecc9ae01-590b-46c8-9c3e-2ac4a6e3e8cc\n"
     ]
    },
    {
     "name": "stderr",
     "output_type": "stream",
     "text": [
      "100%|██████████| 1/1 [00:00<00:00, 28339.89it/s]\n"
     ]
    },
    {
     "ename": "KeyError",
     "evalue": "'piecewise_linear_vector_regression_1'",
     "output_type": "error",
     "traceback": [
      "\u001b[0;31m---------------------------------------------------------------------------\u001b[0m",
      "\u001b[0;31mKeyError\u001b[0m                                  Traceback (most recent call last)",
      "Cell \u001b[0;32mIn[87], line 8\u001b[0m\n\u001b[1;32m      5\u001b[0m _, conf \u001b[38;5;241m=\u001b[39m get_model_from_run(run_path, only_conf\u001b[38;5;241m=\u001b[39m\u001b[38;5;28;01mTrue\u001b[39;00m)\n\u001b[1;32m      6\u001b[0m n_dims \u001b[38;5;241m=\u001b[39m conf\u001b[38;5;241m.\u001b[39mmodel\u001b[38;5;241m.\u001b[39mn_dims\n\u001b[0;32m----> 8\u001b[0m models \u001b[38;5;241m=\u001b[39m \u001b[43mrelevant_model_names\u001b[49m\u001b[43m[\u001b[49m\u001b[43mtask\u001b[49m\u001b[43m]\u001b[49m\n\u001b[1;32m      9\u001b[0m \u001b[38;5;28;01mif\u001b[39;00m skip_baselines:\n\u001b[1;32m     10\u001b[0m     models \u001b[38;5;241m=\u001b[39m [\u001b[38;5;124m\"\u001b[39m\u001b[38;5;124mTransformer\u001b[39m\u001b[38;5;124m\"\u001b[39m]\n",
      "\u001b[0;31mKeyError\u001b[0m: 'piecewise_linear_vector_regression_1'"
     ]
    }
   ],
   "source": [
    "def valid_row(r):\n",
    "    return r.task == task and r.run_id == run_id\n",
    "\n",
    "metrics = collect_results(run_dir, df, valid_row=valid_row)\n",
    "_, conf = get_model_from_run(run_path, only_conf=True)\n",
    "n_dims = conf.model.n_dims\n",
    "\n",
    "models = relevant_model_names[task]\n",
    "if skip_baselines:\n",
    "    models = [\"Transformer\"]\n",
    "basic_plot(metrics[\"standard\"], models=models)\n",
    "plt.show()"
   ]
  },
  {
   "cell_type": "markdown",
   "id": "2528b8e9",
   "metadata": {},
   "source": [
    "# The next code block is for model scaling laws. Run the next code block only once per task per model type."
   ]
  },
  {
   "cell_type": "code",
   "execution_count": 88,
   "id": "5152ef63",
   "metadata": {},
   "outputs": [],
   "source": [
    "param_counts = []\n",
    "val_losses = []"
   ]
  },
  {
   "cell_type": "markdown",
   "id": "eb07138e",
   "metadata": {},
   "source": [
    "# Validation Loss"
   ]
  },
  {
   "cell_type": "code",
   "execution_count": 126,
   "id": "141980b1",
   "metadata": {},
   "outputs": [
    {
     "name": "stdout",
     "output_type": "stream",
     "text": [
      "Evaluating step 100000… MSE = 2.189217\n",
      "Evaluating step 200000… MSE = 2.138143\n",
      "Evaluating step 300000… MSE = 2.116811\n",
      "     step       mse\n",
      "0  100000  2.189217\n",
      "1  200000  2.138143\n",
      "2  300000  2.116811\n"
     ]
    },
    {
     "data": {
      "image/png": "[encoded data removed]",
      "text/plain": [
       "<Figure size 600x400 with 1 Axes>"
      ]
     },
     "metadata": {},
     "output_type": "display_data"
    }
   ],
   "source": [
    "from shutil import copy2\n",
    "import glob, os\n",
    "import pandas as pd\n",
    "import seaborn as sns\n",
    "import matplotlib.pyplot as plt\n",
    "import matplotlib.ticker as ticker\n",
    "from data_generation import get_data_sampler, get_task_sampler\n",
    "import yaml\n",
    "\n",
    "# ── 0) Paths & settings ──────────────────────────────────────────────\n",
    "run_path     = os.path.join(run_dir, task, run_id)\n",
    "orig_state   = os.path.join(run_path, \"state.pt\")\n",
    "backup_state = orig_state + \".bak\"\n",
    "DEVICE       = DEVICE\n",
    "\n",
    "# ── 1) Backup your original state.pt ─────────────────────────────────\n",
    "if os.path.exists(orig_state):\n",
    "    copy2(orig_state, backup_state)\n",
    "\n",
    "# ── 2) Glob & sort your saved checkpoints ────────────────────────────\n",
    "ckpt_paths = sorted(\n",
    "    glob.glob(os.path.join(run_path, \"model_*.pt\")),\n",
    "    key=lambda p: int(os.path.basename(p).split(\"_\")[1].split(\".pt\")[0])\n",
    ")\n",
    "\n",
    "# ── 3) Load config.yaml so we know how to sample val set ──────────────\n",
    "with open(os.path.join(run_path, \"config.yaml\")) as f:\n",
    "    cfg = yaml.safe_load(f)\n",
    "\n",
    "n_dims     = cfg[\"model\"][\"n_dims\"]\n",
    "bsize      = cfg[\"training\"][\"batch_size\"]\n",
    "task_name  = cfg[\"training\"][\"task\"]\n",
    "task_kwargs = cfg[\"training\"].get(\"task_kwargs\", {})\n",
    "\n",
    "# ── 4) Build samplers and one fixed validation batch ────────────────\n",
    "torch.manual_seed(282)\n",
    "data_sampler = get_data_sampler(cfg[\"training\"][\"data\"], n_dims=n_dims)\n",
    "if task == \"piecewise_linear_vector_regression_multi_pivot\":\n",
    "    task_sampler = get_task_sampler(\n",
    "        task_name,\n",
    "        n_dims,\n",
    "        bsize,\n",
    "        n_pivots=cfg[\"training\"][\"n_pivots\"],\n",
    "        num_tasks=cfg[\"training\"].get(\"num_tasks\"),\n",
    "        **task_kwargs\n",
    "    )\n",
    "else:\n",
    "    task_sampler = get_task_sampler(\n",
    "        task_name,\n",
    "        n_dims,\n",
    "        bsize,\n",
    "        num_tasks=cfg[\"training\"].get(\"num_tasks\"),\n",
    "        **task_kwargs\n",
    "    )\n",
    "\n",
    "xs_val = data_sampler.sample_xs(\n",
    "    cfg[\"training\"][\"curriculum\"][\"points\"][\"end\"],\n",
    "    bsize,\n",
    "    cfg[\"training\"][\"curriculum\"][\"dims\"][\"end\"],\n",
    ")\n",
    "ys_val = task_sampler().evaluate(xs_val)\n",
    "xs_val, ys_val = xs_val.to(DEVICE), ys_val.to(DEVICE)\n",
    "\n",
    "# ── 5) Loop through each checkpoint, load it, compute MSE ─────────────\n",
    "records = []\n",
    "for ckpt in ckpt_paths:\n",
    "    step = int(os.path.basename(ckpt).split(\"_\")[1].split(\".pt\")[0])\n",
    "    print(f\"Evaluating step {step}…\", end=\" \")\n",
    "\n",
    "    # load the model + conf for exactly that step\n",
    "    model, conf = get_model_from_run(\n",
    "        run_path,\n",
    "        step=step,\n",
    "        DEVICE=DEVICE\n",
    "    )\n",
    "    model.eval()\n",
    "\n",
    "    # *** key change here: pass both xs_val and ys_val to forward ***\n",
    "    with torch.no_grad():\n",
    "        preds = model(xs_val, ys_val)\n",
    "        mse   = ((preds - ys_val).square().mean().item())\n",
    "\n",
    "    print(f\"MSE = {mse:.6f}\")\n",
    "    records.append({\"step\": step, \"mse\": mse})\n",
    "\n",
    "# ── 6) Restore your original state.pt ─────────────────────────────────\n",
    "if os.path.exists(backup_state):\n",
    "    copy2(backup_state, orig_state)\n",
    "\n",
    "# ── 7) Make a DataFrame & plot ───────────────────────────────────────\n",
    "df_ckpts = pd.DataFrame(records).sort_values(\"step\")\n",
    "print(df_ckpts)\n",
    "\n",
    "plt.figure(figsize=(6, 4))\n",
    "ax = sns.lineplot(data=df_ckpts, x=\"step\", y=\"mse\", marker=\"o\", label=\"Validation Loss\")\n",
    "ax.xaxis.set_major_locator(ticker.MultipleLocator(100_000))\n",
    "ax.xaxis.set_major_formatter(\n",
    "    ticker.FuncFormatter(lambda x, pos: f\"{int(x/1000)}\")\n",
    ")\n",
    "plt.title(f\"Validation Loss\")\n",
    "plt.xlabel(\"Train Steps (k)\")\n",
    "plt.ylabel(\"MSE Loss\")\n",
    "plt.show()\n",
    "\n",
    "# ── 8) Now compute *only* the final model’s size & val‐loss ───────────\n",
    "#    (so you can collect it later across runs for your scaling‐law plot)\n",
    "\n",
    "# load final model from state.pt\n",
    "model_final, conf_final = get_model_from_run(\n",
    "    run_path,\n",
    "    DEVICE=DEVICE\n",
    ")\n",
    "model_final.eval()\n",
    "\n",
    "# count parameters\n",
    "n_params_final = sum(p.numel() for p in model_final.parameters())\n",
    "\n",
    "# compute final MSE on the same held‐out batch\n",
    "with torch.no_grad():\n",
    "    preds_final = model_final(xs_val, ys_val)\n",
    "    mse_final   = ((preds_final - ys_val).square().mean().item())\n",
    "\n",
    "param_counts.append(n_params_final)\n",
    "val_losses.append(mse_final)"
   ]
  },
  {
   "cell_type": "code",
   "execution_count": 127,
   "id": "b2b9e6ca",
   "metadata": {},
   "outputs": [
    {
     "name": "stdout",
     "output_type": "stream",
     "text": [
      "[404617, 607501, 810769, 1225681, 1653089, 2507281]\n",
      "[5.5776543617248535, 5.57178258895874, 5.5559892654418945, 3.5738162994384766, 1.9385279417037964, 2.1099660396575928]\n"
     ]
    }
   ],
   "source": [
    "print(param_counts)\n",
    "print(val_losses)"
   ]
  },
  {
   "cell_type": "markdown",
   "id": "01efb321",
   "metadata": {},
   "source": [
    "# Scaling Laws"
   ]
  },
  {
   "cell_type": "code",
   "execution_count": 128,
   "id": "0c82fb38",
   "metadata": {},
   "outputs": [
    {
     "data": {
      "image/png": "[encoded data removed]",
      "text/plain": [
       "<Figure size 600x400 with 1 Axes>"
      ]
     },
     "metadata": {},
     "output_type": "display_data"
    }
   ],
   "source": [
    "# Convert to numpy arrays\n",
    "x = np.array(param_counts[:-1])\n",
    "y = np.array(val_losses[:-1])\n",
    "\n",
    "# Fit power law: log(y) = b*log(x) + log(a)\n",
    "logx = np.log(x)\n",
    "logy = np.log(y)\n",
    "b, loga = np.polyfit(logx, logy, 1)\n",
    "a = exp(loga)\n",
    "\n",
    "# Prepare a smooth curve for plotting\n",
    "x_fit = np.logspace(np.log10(x.min()), np.log10(x.max()), 200)\n",
    "y_fit = a * x_fit**b\n",
    "\n",
    "# Plot\n",
    "sns.set_theme('notebook', 'darkgrid')\n",
    "plt.figure(figsize=(6,4))\n",
    "\n",
    "# scatter of data\n",
    "plt.scatter(x, y, s=60, label=\"Data\")\n",
    "\n",
    "# fitted power law line\n",
    "plt.plot(x_fit, y_fit, lw=2, label=f\"Fit: loss = {a:.2e}·params^{b:.2f}\")\n",
    "\n",
    "plt.xscale('log')\n",
    "plt.yscale('log')\n",
    "plt.xlabel(\"Number of parameters\")\n",
    "plt.ylabel(\"MSE Loss\")\n",
    "plt.title(\"Scaling Law: Validation Loss vs. Model Size\")\n",
    "plt.legend()\n",
    "plt.tight_layout()\n",
    "plt.show()"
   ]
  },
  {
   "cell_type": "markdown",
   "id": "f65741e4",
   "metadata": {},
   "source": [
    "# Plot Train/Val Loss Curve"
   ]
  },
  {
   "cell_type": "code",
   "execution_count": null,
   "id": "e7dda63a",
   "metadata": {},
   "outputs": [],
   "source": [
    "import wandb\n",
    "import matplotlib.pyplot as plt\n",
    "\n",
    "# 1) Initialize the API\n",
    "api = wandb.Api()\n",
    "\n",
    "# 2) Load your run by its full path: \"<entity>/<project>/<run_id>\"\n",
    "#    e.g. \"myusername/myproject/abcd1234\"\n",
    "run_path = \"qianyu2025-university-of-california-berkeley/in-context-training/vald3twu\" # standard piecewise scalar\n",
    "# run_path = \"qianyu2025-university-of-california-berkeley/in-context-training/9mcne8c0\" # tiny piecewise scalar\n",
    "run = api.run(f\"{run_path}\")  # e.g. \"me/myproj/abc123\""
   ]
  },
  {
   "cell_type": "code",
   "execution_count": null,
   "id": "99bd3d2d",
   "metadata": {},
   "outputs": [],
   "source": [
    "# 3) Download the history for just the two loss keys\n",
    "hist = run.history(keys=[\"overall_loss\"])\n",
    "\n",
    "# 4) Convert to Python lists\n",
    "train_losses = hist[\"overall_loss\"].tolist()\n",
    "\n",
    "\n",
    "# 5) Plot\n",
    "epochs = range(1, len(train_losses) + 1)\n",
    "plt.plot(epochs, train_losses, label=\"Train Loss\")\n",
    "plt.xlabel(\"Train Steps (k)\")\n",
    "plt.ylabel(\"MSE Loss\")\n",
    "plt.title(\"Training Loss\")\n",
    "plt.legend()\n",
    "plt.grid(True)\n",
    "plt.show()"
   ]
  },
  {
   "cell_type": "markdown",
   "id": "25002b8d",
   "metadata": {},
   "source": [
    "## Plot OOD metric"
   ]
  },
  {
   "cell_type": "code",
   "execution_count": 22,
   "id": "31b4ecca",
   "metadata": {
    "scrolled": true
   },
   "outputs": [],
   "source": [
    "# plot any OOD metrics\n",
    "for name, metric in metrics.items():\n",
    "    if name == \"standard\": continue\n",
    "   \n",
    "    if \"scale\" in name:\n",
    "        scale = float(name.split(\"=\")[-1])**2\n",
    "    else:\n",
    "        scale = 1.0\n",
    "\n",
    "    trivial = 1.0 if \"noisy\" not in name else (1+1/n_dims)\n",
    "    fig, ax = basic_plot(metric, models=models, trivial=trivial * scale)\n",
    "    ax.set_title(name)\n",
    "    \n",
    "    if \"ortho\" in name:\n",
    "        ax.set_xlim(-1, n_dims - 1)\n",
    "    ax.set_ylim(-.1 * scale, 1.5 * scale)\n",
    "\n",
    "    plt.show()"
   ]
  },
  {
   "cell_type": "markdown",
   "id": "e6f961d4",
   "metadata": {},
   "source": [
    "# Interactive setup\n",
    "\n",
    "We will now directly load the model and measure its in-context learning ability on a batch of random inputs. (In the paper we average over multiple such batches to obtain better estimates.)"
   ]
  },
  {
   "cell_type": "code",
   "execution_count": 20,
   "id": "beb327ce",
   "metadata": {},
   "outputs": [],
   "source": [
    "from data_generation import get_data_sampler, get_task_sampler"
   ]
  },
  {
   "cell_type": "code",
   "execution_count": 21,
   "id": "03523b06",
   "metadata": {},
   "outputs": [],
   "source": [
    "model, conf = get_model_from_run(run_path,DEVICE=DEVICE)\n",
    "\n",
    "n_dims = conf.model.n_dims\n",
    "batch_size = conf.training.batch_size\n",
    "\n",
    "data_sampler = get_data_sampler(conf.training.data, n_dims)\n",
    "task_sampler = get_task_sampler(\n",
    "    conf.training.task,\n",
    "    n_dims,\n",
    "    batch_size,\n",
    "    **conf.training.task_kwargs\n",
    ")"
   ]
  },
  {
   "cell_type": "code",
   "execution_count": 22,
   "id": "1d9da7c3",
   "metadata": {},
   "outputs": [],
   "source": [
    "task = task_sampler()\n",
    "xs = data_sampler.sample_xs(b_size=batch_size, n_points=conf.training.curriculum.points.end)\n",
    "ys = task.evaluate(xs)"
   ]
  },
  {
   "cell_type": "code",
   "execution_count": 23,
   "id": "cb69ddda",
   "metadata": {},
   "outputs": [
    {
     "name": "stdout",
     "output_type": "stream",
     "text": [
      "Intel MKL WARNING: Support of Intel(R) Streaming SIMD Extensions 4.2 (Intel(R) SSE4.2) enabled only processors has been deprecated. Intel oneAPI Math Kernel Library 2025.0 will require Intel(R) Advanced Vector Extensions (Intel(R) AVX) instructions.\n"
     ]
    }
   ],
   "source": [
    "with torch.no_grad():\n",
    "    pred = model(xs, ys)"
   ]
  },
  {
   "cell_type": "code",
   "execution_count": 24,
   "id": "2aa97fa5",
   "metadata": {},
   "outputs": [
    {
     "data": {
      "image/png": "[encoded data removed]",
      "text/plain": [
       "<Figure size 640x480 with 1 Axes>"
      ]
     },
     "metadata": {},
     "output_type": "display_data"
    }
   ],
   "source": [
    "metric = task.get_metric()\n",
    "loss = metric(pred, ys).numpy()\n",
    "\n",
    "sparsity = conf.training.task_kwargs.sparsity if \"sparsity\" in conf.training.task_kwargs else None\n",
    "baseline = {\n",
    "    \"piecewise_linear_regression\": 1,\n",
    "    \"linear_regression\": n_dims,\n",
    "    \"sparse_linear_regression\": sparsity,\n",
    "    \"relu_2nn_regression\": n_dims,\n",
    "    \"decision_tree\": 1,\n",
    "}[conf.training.task]\n",
    "\n",
    "plt.plot(loss.mean(axis=0), lw=2, label=\"Transformer\")\n",
    "plt.axhline(baseline, ls=\"--\", color=\"gray\", label=\"zero estimator\")\n",
    "plt.xlabel(\"# in-context examples\")\n",
    "plt.ylabel(\"squared error\")\n",
    "plt.legend()\n",
    "plt.show()"
   ]
  },
  {
   "cell_type": "markdown",
   "id": "eae775a1",
   "metadata": {},
   "source": [
    "As an exploration example, let's see how robust the model is to doubling all the inputs."
   ]
  },
  {
   "cell_type": "code",
   "execution_count": 11,
   "id": "a58e04e4",
   "metadata": {},
   "outputs": [],
   "source": [
    "xs2 = 2 * xs\n",
    "ys2 = task.evaluate(xs2)\n",
    "with torch.no_grad():\n",
    "    pred2 = model(xs2, ys2)"
   ]
  },
  {
   "cell_type": "code",
   "execution_count": 12,
   "id": "7ea71ba5",
   "metadata": {},
   "outputs": [
    {
     "data": {
      "image/png": "[encoded data removed]",
      "text/plain": [
       "<Figure size 432x288 with 1 Axes>"
      ]
     },
     "metadata": {},
     "output_type": "display_data"
    }
   ],
   "source": [
    "loss2 = metric(pred2, ys2).numpy()\n",
    "\n",
    "plt.plot(loss.mean(axis=0), lw=2, label=\"Transformer\")\n",
    "plt.plot(loss2.mean(axis=0) / 4, lw=2, label=\"Transformer on doubled inputs\")\n",
    "plt.axhline(baseline, ls=\"--\", color=\"gray\", label=\"zero estimator\")\n",
    "plt.xlabel(\"# in-context examples\")\n",
    "plt.ylabel(\"squared error\")\n",
    "plt.legend()\n",
    "plt.show()"
   ]
  },
  {
   "cell_type": "markdown",
   "id": "021f118e",
   "metadata": {},
   "source": [
    "The error does increase, especially when the number of in-context examples exceeds the dimension, but the model is still relatively accurate."
   ]
  }
 ],
 "metadata": {
  "kernelspec": {
   "display_name": "in-context-learning",
   "language": "python",
   "name": "python3"
  },
  "language_info": {
   "codemirror_mode": {
    "name": "ipython",
    "version": 3
   },
   "file_extension": ".py",
   "mimetype": "text/x-python",
   "name": "python",
   "nbconvert_exporter": "python",
   "pygments_lexer": "ipython3",
   "version": "3.8.12"
  }
 },
 "nbformat": 4,
 "nbformat_minor": 5
}
